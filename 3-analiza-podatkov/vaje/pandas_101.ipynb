{
 "cells": [
  {
   "cell_type": "markdown",
   "metadata": {},
   "source": [
    "# Data analysis with Pandas\n",
    "\n",
    "[Pandas quick-start guide](http://pandas.pydata.org/pandas-docs/stable/10min.html)  \n",
    "[Pandas documentation](http://pandas.pydata.org/pandas-docs/stable/)  \n",
    "[Lecture notes on pandas](../predavanja/Analiza podatkov s knjižnico Pandas.ipynb)\n"
   ]
  },
  {
   "cell_type": "markdown",
   "metadata": {},
   "source": [
    "### Loading pandas and our data"
   ]
  },
  {
   "cell_type": "code",
   "execution_count": 46,
   "metadata": {},
   "outputs": [],
   "source": [
    "# naložimo paket\n",
    "import pandas as pd\n",
    "\n",
    "# ker bomo delali z velikimi razpredelnicami, povemo, da naj se vedno izpiše le 10 vrstic\n",
    "pd.options.display.max_rows = 10\n",
    "\n",
    "# select an interactive \"notebook\" plot style\n",
    "%matplotlib inline\n",
    "\n",
    "# naložimo razpredelnico, s katero bomo delali\n",
    "filmi = pd.read_csv(\"filmi.csv\")"
   ]
  },
  {
   "cell_type": "markdown",
   "metadata": {},
   "source": [
    "Let's take a look at the data."
   ]
  },
  {
   "cell_type": "code",
   "execution_count": 47,
   "metadata": {},
   "outputs": [
    {
     "data": {
      "text/html": [
       "<div>\n",
       "<style>\n",
       "    .dataframe thead tr:only-child th {\n",
       "        text-align: right;\n",
       "    }\n",
       "\n",
       "    .dataframe thead th {\n",
       "        text-align: left;\n",
       "    }\n",
       "\n",
       "    .dataframe tbody tr th {\n",
       "        vertical-align: top;\n",
       "    }\n",
       "</style>\n",
       "<table border=\"1\" class=\"dataframe\">\n",
       "  <thead>\n",
       "    <tr style=\"text-align: right;\">\n",
       "      <th></th>\n",
       "      <th>id</th>\n",
       "      <th>naslov</th>\n",
       "      <th>dolzina</th>\n",
       "      <th>leto</th>\n",
       "      <th>ocena</th>\n",
       "      <th>metascore</th>\n",
       "      <th>glasovi</th>\n",
       "      <th>zasluzek</th>\n",
       "      <th>opis</th>\n",
       "    </tr>\n",
       "  </thead>\n",
       "  <tbody>\n",
       "    <tr>\n",
       "      <th>0</th>\n",
       "      <td>12349</td>\n",
       "      <td>The Kid</td>\n",
       "      <td>68</td>\n",
       "      <td>1921</td>\n",
       "      <td>8.3</td>\n",
       "      <td>NaN</td>\n",
       "      <td>90443</td>\n",
       "      <td>5450000.0</td>\n",
       "      <td>The Tramp cares for an abandoned child, but ev...</td>\n",
       "    </tr>\n",
       "    <tr>\n",
       "      <th>1</th>\n",
       "      <td>13442</td>\n",
       "      <td>Nosferatu, simfonija groze</td>\n",
       "      <td>94</td>\n",
       "      <td>1922</td>\n",
       "      <td>8.0</td>\n",
       "      <td>NaN</td>\n",
       "      <td>77975</td>\n",
       "      <td>NaN</td>\n",
       "      <td>Vampire Count Orlok expresses interest in a ne...</td>\n",
       "    </tr>\n",
       "    <tr>\n",
       "      <th>2</th>\n",
       "      <td>15864</td>\n",
       "      <td>Zlata mrzlica</td>\n",
       "      <td>95</td>\n",
       "      <td>1925</td>\n",
       "      <td>8.2</td>\n",
       "      <td>NaN</td>\n",
       "      <td>85136</td>\n",
       "      <td>5450000.0</td>\n",
       "      <td>A prospector goes to the Klondike in search of...</td>\n",
       "    </tr>\n",
       "    <tr>\n",
       "      <th>3</th>\n",
       "      <td>17136</td>\n",
       "      <td>Metropolis</td>\n",
       "      <td>153</td>\n",
       "      <td>1927</td>\n",
       "      <td>8.3</td>\n",
       "      <td>98.0</td>\n",
       "      <td>136601</td>\n",
       "      <td>26435.0</td>\n",
       "      <td>In a futuristic city sharply divided between t...</td>\n",
       "    </tr>\n",
       "    <tr>\n",
       "      <th>4</th>\n",
       "      <td>17925</td>\n",
       "      <td>General</td>\n",
       "      <td>67</td>\n",
       "      <td>1926</td>\n",
       "      <td>8.2</td>\n",
       "      <td>NaN</td>\n",
       "      <td>68196</td>\n",
       "      <td>NaN</td>\n",
       "      <td>When Union spies steal an engineer's beloved l...</td>\n",
       "    </tr>\n",
       "  </tbody>\n",
       "</table>\n",
       "</div>"
      ],
      "text/plain": [
       "      id                      naslov  dolzina  leto  ocena  metascore  \\\n",
       "0  12349                     The Kid       68  1921    8.3        NaN   \n",
       "1  13442  Nosferatu, simfonija groze       94  1922    8.0        NaN   \n",
       "2  15864               Zlata mrzlica       95  1925    8.2        NaN   \n",
       "3  17136                  Metropolis      153  1927    8.3       98.0   \n",
       "4  17925                     General       67  1926    8.2        NaN   \n",
       "\n",
       "   glasovi   zasluzek                                               opis  \n",
       "0    90443  5450000.0  The Tramp cares for an abandoned child, but ev...  \n",
       "1    77975        NaN  Vampire Count Orlok expresses interest in a ne...  \n",
       "2    85136  5450000.0  A prospector goes to the Klondike in search of...  \n",
       "3   136601    26435.0  In a futuristic city sharply divided between t...  \n",
       "4    68196        NaN  When Union spies steal an engineer's beloved l...  "
      ]
     },
     "execution_count": 47,
     "metadata": {},
     "output_type": "execute_result"
    }
   ],
   "source": [
    "filmi.head()"
   ]
  },
  {
   "cell_type": "markdown",
   "metadata": {},
   "source": [
    "## Inspecting the data\n",
    "\n",
    "Sort the data by rating."
   ]
  },
  {
   "cell_type": "code",
   "execution_count": 57,
   "metadata": {},
   "outputs": [
    {
     "data": {
      "text/html": [
       "<div>\n",
       "<style>\n",
       "    .dataframe thead tr:only-child th {\n",
       "        text-align: right;\n",
       "    }\n",
       "\n",
       "    .dataframe thead th {\n",
       "        text-align: left;\n",
       "    }\n",
       "\n",
       "    .dataframe tbody tr th {\n",
       "        vertical-align: top;\n",
       "    }\n",
       "</style>\n",
       "<table border=\"1\" class=\"dataframe\">\n",
       "  <thead>\n",
       "    <tr style=\"text-align: right;\">\n",
       "      <th></th>\n",
       "      <th>id</th>\n",
       "      <th>naslov</th>\n",
       "      <th>dolzina</th>\n",
       "      <th>leto</th>\n",
       "      <th>ocena</th>\n",
       "      <th>metascore</th>\n",
       "      <th>glasovi</th>\n",
       "      <th>zasluzek</th>\n",
       "      <th>opis</th>\n",
       "    </tr>\n",
       "  </thead>\n",
       "  <tbody>\n",
       "    <tr>\n",
       "      <th>2496</th>\n",
       "      <td>5988370</td>\n",
       "      <td>Reis</td>\n",
       "      <td>108</td>\n",
       "      <td>2017</td>\n",
       "      <td>1.8</td>\n",
       "      <td>NaN</td>\n",
       "      <td>71685</td>\n",
       "      <td>NaN</td>\n",
       "      <td>A drama about the early life of Recep Tayyip E...</td>\n",
       "    </tr>\n",
       "    <tr>\n",
       "      <th>1787</th>\n",
       "      <td>1213644</td>\n",
       "      <td>Disaster Movie</td>\n",
       "      <td>87</td>\n",
       "      <td>2008</td>\n",
       "      <td>1.9</td>\n",
       "      <td>15.0</td>\n",
       "      <td>80828</td>\n",
       "      <td>14190901.0</td>\n",
       "      <td>Over the course of one evening, an unsuspectin...</td>\n",
       "    </tr>\n",
       "    <tr>\n",
       "      <th>1508</th>\n",
       "      <td>799949</td>\n",
       "      <td>Velik film</td>\n",
       "      <td>86</td>\n",
       "      <td>2007</td>\n",
       "      <td>2.3</td>\n",
       "      <td>17.0</td>\n",
       "      <td>96182</td>\n",
       "      <td>39739367.0</td>\n",
       "      <td>A comedic satire of films that are large in sc...</td>\n",
       "    </tr>\n",
       "    <tr>\n",
       "      <th>799</th>\n",
       "      <td>185183</td>\n",
       "      <td>Battlefield Earth</td>\n",
       "      <td>118</td>\n",
       "      <td>2000</td>\n",
       "      <td>2.4</td>\n",
       "      <td>9.0</td>\n",
       "      <td>71149</td>\n",
       "      <td>21471685.0</td>\n",
       "      <td>It's the year 3000 A.D.; the Earth is lost to ...</td>\n",
       "    </tr>\n",
       "    <tr>\n",
       "      <th>1709</th>\n",
       "      <td>1098327</td>\n",
       "      <td>Dragonball Evolution</td>\n",
       "      <td>85</td>\n",
       "      <td>2009</td>\n",
       "      <td>2.6</td>\n",
       "      <td>45.0</td>\n",
       "      <td>63966</td>\n",
       "      <td>9353573.0</td>\n",
       "      <td>The young warrior Son Goku sets out on a quest...</td>\n",
       "    </tr>\n",
       "    <tr>\n",
       "      <th>...</th>\n",
       "      <td>...</td>\n",
       "      <td>...</td>\n",
       "      <td>...</td>\n",
       "      <td>...</td>\n",
       "      <td>...</td>\n",
       "      <td>...</td>\n",
       "      <td>...</td>\n",
       "      <td>...</td>\n",
       "      <td>...</td>\n",
       "    </tr>\n",
       "    <tr>\n",
       "      <th>138</th>\n",
       "      <td>71562</td>\n",
       "      <td>Boter, II. del</td>\n",
       "      <td>202</td>\n",
       "      <td>1974</td>\n",
       "      <td>9.0</td>\n",
       "      <td>90.0</td>\n",
       "      <td>950252</td>\n",
       "      <td>57300000.0</td>\n",
       "      <td>The early life and career of Vito Corleone in ...</td>\n",
       "    </tr>\n",
       "    <tr>\n",
       "      <th>1416</th>\n",
       "      <td>468569</td>\n",
       "      <td>Vitez teme</td>\n",
       "      <td>152</td>\n",
       "      <td>2008</td>\n",
       "      <td>9.0</td>\n",
       "      <td>84.0</td>\n",
       "      <td>1972591</td>\n",
       "      <td>534858444.0</td>\n",
       "      <td>When the menace known as the Joker emerges fro...</td>\n",
       "    </tr>\n",
       "    <tr>\n",
       "      <th>124</th>\n",
       "      <td>68646</td>\n",
       "      <td>Boter</td>\n",
       "      <td>175</td>\n",
       "      <td>1972</td>\n",
       "      <td>9.2</td>\n",
       "      <td>100.0</td>\n",
       "      <td>1372528</td>\n",
       "      <td>134966411.0</td>\n",
       "      <td>The aging patriarch of an organized crime dyna...</td>\n",
       "    </tr>\n",
       "    <tr>\n",
       "      <th>469</th>\n",
       "      <td>111161</td>\n",
       "      <td>Kaznilnica odrešitve</td>\n",
       "      <td>142</td>\n",
       "      <td>1994</td>\n",
       "      <td>9.3</td>\n",
       "      <td>80.0</td>\n",
       "      <td>2003395</td>\n",
       "      <td>28341469.0</td>\n",
       "      <td>Two imprisoned men bond over a number of years...</td>\n",
       "    </tr>\n",
       "    <tr>\n",
       "      <th>2495</th>\n",
       "      <td>5813916</td>\n",
       "      <td>Dag II</td>\n",
       "      <td>135</td>\n",
       "      <td>2016</td>\n",
       "      <td>9.4</td>\n",
       "      <td>NaN</td>\n",
       "      <td>98201</td>\n",
       "      <td>NaN</td>\n",
       "      <td>In a desolate war zone where screams of the in...</td>\n",
       "    </tr>\n",
       "  </tbody>\n",
       "</table>\n",
       "<p>2500 rows × 9 columns</p>\n",
       "</div>"
      ],
      "text/plain": [
       "           id                naslov  dolzina  leto  ocena  metascore  glasovi  \\\n",
       "2496  5988370                  Reis      108  2017    1.8        NaN    71685   \n",
       "1787  1213644        Disaster Movie       87  2008    1.9       15.0    80828   \n",
       "1508   799949            Velik film       86  2007    2.3       17.0    96182   \n",
       "799    185183     Battlefield Earth      118  2000    2.4        9.0    71149   \n",
       "1709  1098327  Dragonball Evolution       85  2009    2.6       45.0    63966   \n",
       "...       ...                   ...      ...   ...    ...        ...      ...   \n",
       "138     71562        Boter, II. del      202  1974    9.0       90.0   950252   \n",
       "1416   468569            Vitez teme      152  2008    9.0       84.0  1972591   \n",
       "124     68646                 Boter      175  1972    9.2      100.0  1372528   \n",
       "469    111161  Kaznilnica odrešitve      142  1994    9.3       80.0  2003395   \n",
       "2495  5813916                Dag II      135  2016    9.4        NaN    98201   \n",
       "\n",
       "         zasluzek                                               opis  \n",
       "2496          NaN  A drama about the early life of Recep Tayyip E...  \n",
       "1787   14190901.0  Over the course of one evening, an unsuspectin...  \n",
       "1508   39739367.0  A comedic satire of films that are large in sc...  \n",
       "799    21471685.0  It's the year 3000 A.D.; the Earth is lost to ...  \n",
       "1709    9353573.0  The young warrior Son Goku sets out on a quest...  \n",
       "...           ...                                                ...  \n",
       "138    57300000.0  The early life and career of Vito Corleone in ...  \n",
       "1416  534858444.0  When the menace known as the Joker emerges fro...  \n",
       "124   134966411.0  The aging patriarch of an organized crime dyna...  \n",
       "469    28341469.0  Two imprisoned men bond over a number of years...  \n",
       "2495          NaN  In a desolate war zone where screams of the in...  \n",
       "\n",
       "[2500 rows x 9 columns]"
      ]
     },
     "execution_count": 57,
     "metadata": {},
     "output_type": "execute_result"
    }
   ],
   "source": [
    "filmi.sort_values('ocena')"
   ]
  },
  {
   "cell_type": "markdown",
   "metadata": {},
   "source": [
    "Extract the 'ocena' column."
   ]
  },
  {
   "cell_type": "code",
   "execution_count": 58,
   "metadata": {},
   "outputs": [
    {
     "data": {
      "text/plain": [
       "0       8.3\n",
       "1       8.0\n",
       "2       8.2\n",
       "3       8.3\n",
       "4       8.2\n",
       "       ... \n",
       "2495    9.4\n",
       "2496    1.8\n",
       "2497    7.2\n",
       "2498    7.7\n",
       "2499    7.3\n",
       "Name: ocena, Length: 2500, dtype: float64"
      ]
     },
     "execution_count": 58,
     "metadata": {},
     "output_type": "execute_result"
    }
   ],
   "source": [
    "filmi['ocena']"
   ]
  },
  {
   "cell_type": "markdown",
   "metadata": {},
   "source": [
    "There is a difference between `filmi['ocena']` and `filmi[['ocena']]`:"
   ]
  },
  {
   "cell_type": "code",
   "execution_count": 50,
   "metadata": {},
   "outputs": [
    {
     "name": "stdout",
     "output_type": "stream",
     "text": [
      "<class 'pandas.core.series.Series'>\n",
      "<class 'pandas.core.frame.DataFrame'>\n"
     ]
    }
   ],
   "source": [
    "print(type(filmi['ocena']))\n",
    "print(type(filmi[['ocena']]))"
   ]
  },
  {
   "cell_type": "markdown",
   "metadata": {},
   "source": [
    "The columns of dataframes are `Series`. Using single brackets extracts a `Series` (think: a vector, no further structure), double brackets extracts a sub-`DataFrame`. Most of the operations we perform (grouping, joining, plotting, filtering, ...) operate on dataframes. \n",
    "\n",
    "A `Series` is used for example if we want to add a column to a dataframe."
   ]
  },
  {
   "cell_type": "markdown",
   "metadata": {},
   "source": [
    "Round the extracted rating series to the nearest integer using the `round()` function."
   ]
  },
  {
   "cell_type": "code",
   "execution_count": 59,
   "metadata": {},
   "outputs": [],
   "source": [
    "filmi['zaokrozena_ocena'] = filmi.ocena.round()"
   ]
  },
  {
   "cell_type": "markdown",
   "metadata": {},
   "source": [
    "Add the rounded value to the filmi dataframe."
   ]
  },
  {
   "cell_type": "code",
   "execution_count": 37,
   "metadata": {},
   "outputs": [
    {
     "data": {
      "text/html": [
       "<div>\n",
       "<style>\n",
       "    .dataframe thead tr:only-child th {\n",
       "        text-align: right;\n",
       "    }\n",
       "\n",
       "    .dataframe thead th {\n",
       "        text-align: left;\n",
       "    }\n",
       "\n",
       "    .dataframe tbody tr th {\n",
       "        vertical-align: top;\n",
       "    }\n",
       "</style>\n",
       "<table border=\"1\" class=\"dataframe\">\n",
       "  <thead>\n",
       "    <tr style=\"text-align: right;\">\n",
       "      <th></th>\n",
       "      <th>id</th>\n",
       "      <th>naslov</th>\n",
       "      <th>dolzina</th>\n",
       "      <th>leto</th>\n",
       "      <th>ocena</th>\n",
       "      <th>metascore</th>\n",
       "      <th>glasovi</th>\n",
       "      <th>zasluzek</th>\n",
       "      <th>opis</th>\n",
       "      <th>zaokrozena_ocena</th>\n",
       "    </tr>\n",
       "  </thead>\n",
       "  <tbody>\n",
       "    <tr>\n",
       "      <th>0</th>\n",
       "      <td>12349</td>\n",
       "      <td>The Kid</td>\n",
       "      <td>68</td>\n",
       "      <td>1921</td>\n",
       "      <td>8.3</td>\n",
       "      <td>NaN</td>\n",
       "      <td>90443</td>\n",
       "      <td>5450000.0</td>\n",
       "      <td>The Tramp cares for an abandoned child, but ev...</td>\n",
       "      <td>8.0</td>\n",
       "    </tr>\n",
       "    <tr>\n",
       "      <th>1</th>\n",
       "      <td>13442</td>\n",
       "      <td>Nosferatu, simfonija groze</td>\n",
       "      <td>94</td>\n",
       "      <td>1922</td>\n",
       "      <td>8.0</td>\n",
       "      <td>NaN</td>\n",
       "      <td>77975</td>\n",
       "      <td>NaN</td>\n",
       "      <td>Vampire Count Orlok expresses interest in a ne...</td>\n",
       "      <td>8.0</td>\n",
       "    </tr>\n",
       "    <tr>\n",
       "      <th>2</th>\n",
       "      <td>15864</td>\n",
       "      <td>Zlata mrzlica</td>\n",
       "      <td>95</td>\n",
       "      <td>1925</td>\n",
       "      <td>8.2</td>\n",
       "      <td>NaN</td>\n",
       "      <td>85136</td>\n",
       "      <td>5450000.0</td>\n",
       "      <td>A prospector goes to the Klondike in search of...</td>\n",
       "      <td>8.0</td>\n",
       "    </tr>\n",
       "    <tr>\n",
       "      <th>3</th>\n",
       "      <td>17136</td>\n",
       "      <td>Metropolis</td>\n",
       "      <td>153</td>\n",
       "      <td>1927</td>\n",
       "      <td>8.3</td>\n",
       "      <td>98.0</td>\n",
       "      <td>136601</td>\n",
       "      <td>26435.0</td>\n",
       "      <td>In a futuristic city sharply divided between t...</td>\n",
       "      <td>8.0</td>\n",
       "    </tr>\n",
       "    <tr>\n",
       "      <th>4</th>\n",
       "      <td>17925</td>\n",
       "      <td>General</td>\n",
       "      <td>67</td>\n",
       "      <td>1926</td>\n",
       "      <td>8.2</td>\n",
       "      <td>NaN</td>\n",
       "      <td>68196</td>\n",
       "      <td>NaN</td>\n",
       "      <td>When Union spies steal an engineer's beloved l...</td>\n",
       "      <td>8.0</td>\n",
       "    </tr>\n",
       "  </tbody>\n",
       "</table>\n",
       "</div>"
      ],
      "text/plain": [
       "      id                      naslov  dolzina  leto  ocena  metascore  \\\n",
       "0  12349                     The Kid       68  1921    8.3        NaN   \n",
       "1  13442  Nosferatu, simfonija groze       94  1922    8.0        NaN   \n",
       "2  15864               Zlata mrzlica       95  1925    8.2        NaN   \n",
       "3  17136                  Metropolis      153  1927    8.3       98.0   \n",
       "4  17925                     General       67  1926    8.2        NaN   \n",
       "\n",
       "   glasovi   zasluzek                                               opis  \\\n",
       "0    90443  5450000.0  The Tramp cares for an abandoned child, but ev...   \n",
       "1    77975        NaN  Vampire Count Orlok expresses interest in a ne...   \n",
       "2    85136  5450000.0  A prospector goes to the Klondike in search of...   \n",
       "3   136601    26435.0  In a futuristic city sharply divided between t...   \n",
       "4    68196        NaN  When Union spies steal an engineer's beloved l...   \n",
       "\n",
       "   zaokrozena_ocena  \n",
       "0               8.0  \n",
       "1               8.0  \n",
       "2               8.0  \n",
       "3               8.0  \n",
       "4               8.0  "
      ]
     },
     "execution_count": 37,
     "metadata": {},
     "output_type": "execute_result"
    }
   ],
   "source": [
    "filmi.head()"
   ]
  },
  {
   "cell_type": "markdown",
   "metadata": {},
   "source": [
    "Remove the newly added column using the `.drop()` method with a `columns = ` argument."
   ]
  },
  {
   "cell_type": "code",
   "execution_count": 61,
   "metadata": {},
   "outputs": [
    {
     "data": {
      "text/html": [
       "<div>\n",
       "<style>\n",
       "    .dataframe thead tr:only-child th {\n",
       "        text-align: right;\n",
       "    }\n",
       "\n",
       "    .dataframe thead th {\n",
       "        text-align: left;\n",
       "    }\n",
       "\n",
       "    .dataframe tbody tr th {\n",
       "        vertical-align: top;\n",
       "    }\n",
       "</style>\n",
       "<table border=\"1\" class=\"dataframe\">\n",
       "  <thead>\n",
       "    <tr style=\"text-align: right;\">\n",
       "      <th></th>\n",
       "      <th>id</th>\n",
       "      <th>naslov</th>\n",
       "      <th>dolzina</th>\n",
       "      <th>leto</th>\n",
       "      <th>ocena</th>\n",
       "      <th>metascore</th>\n",
       "      <th>glasovi</th>\n",
       "      <th>zasluzek</th>\n",
       "      <th>opis</th>\n",
       "    </tr>\n",
       "  </thead>\n",
       "  <tbody>\n",
       "    <tr>\n",
       "      <th>0</th>\n",
       "      <td>12349</td>\n",
       "      <td>The Kid</td>\n",
       "      <td>68</td>\n",
       "      <td>1921</td>\n",
       "      <td>8.3</td>\n",
       "      <td>NaN</td>\n",
       "      <td>90443</td>\n",
       "      <td>5450000.0</td>\n",
       "      <td>The Tramp cares for an abandoned child, but ev...</td>\n",
       "    </tr>\n",
       "    <tr>\n",
       "      <th>1</th>\n",
       "      <td>13442</td>\n",
       "      <td>Nosferatu, simfonija groze</td>\n",
       "      <td>94</td>\n",
       "      <td>1922</td>\n",
       "      <td>8.0</td>\n",
       "      <td>NaN</td>\n",
       "      <td>77975</td>\n",
       "      <td>NaN</td>\n",
       "      <td>Vampire Count Orlok expresses interest in a ne...</td>\n",
       "    </tr>\n",
       "    <tr>\n",
       "      <th>2</th>\n",
       "      <td>15864</td>\n",
       "      <td>Zlata mrzlica</td>\n",
       "      <td>95</td>\n",
       "      <td>1925</td>\n",
       "      <td>8.2</td>\n",
       "      <td>NaN</td>\n",
       "      <td>85136</td>\n",
       "      <td>5450000.0</td>\n",
       "      <td>A prospector goes to the Klondike in search of...</td>\n",
       "    </tr>\n",
       "    <tr>\n",
       "      <th>3</th>\n",
       "      <td>17136</td>\n",
       "      <td>Metropolis</td>\n",
       "      <td>153</td>\n",
       "      <td>1927</td>\n",
       "      <td>8.3</td>\n",
       "      <td>98.0</td>\n",
       "      <td>136601</td>\n",
       "      <td>26435.0</td>\n",
       "      <td>In a futuristic city sharply divided between t...</td>\n",
       "    </tr>\n",
       "    <tr>\n",
       "      <th>4</th>\n",
       "      <td>17925</td>\n",
       "      <td>General</td>\n",
       "      <td>67</td>\n",
       "      <td>1926</td>\n",
       "      <td>8.2</td>\n",
       "      <td>NaN</td>\n",
       "      <td>68196</td>\n",
       "      <td>NaN</td>\n",
       "      <td>When Union spies steal an engineer's beloved l...</td>\n",
       "    </tr>\n",
       "  </tbody>\n",
       "</table>\n",
       "</div>"
      ],
      "text/plain": [
       "      id                      naslov  dolzina  leto  ocena  metascore  \\\n",
       "0  12349                     The Kid       68  1921    8.3        NaN   \n",
       "1  13442  Nosferatu, simfonija groze       94  1922    8.0        NaN   \n",
       "2  15864               Zlata mrzlica       95  1925    8.2        NaN   \n",
       "3  17136                  Metropolis      153  1927    8.3       98.0   \n",
       "4  17925                     General       67  1926    8.2        NaN   \n",
       "\n",
       "   glasovi   zasluzek                                               opis  \n",
       "0    90443  5450000.0  The Tramp cares for an abandoned child, but ev...  \n",
       "1    77975        NaN  Vampire Count Orlok expresses interest in a ne...  \n",
       "2    85136  5450000.0  A prospector goes to the Klondike in search of...  \n",
       "3   136601    26435.0  In a futuristic city sharply divided between t...  \n",
       "4    68196        NaN  When Union spies steal an engineer's beloved l...  "
      ]
     },
     "execution_count": 61,
     "metadata": {},
     "output_type": "execute_result"
    }
   ],
   "source": [
    "filmi = filmi.drop('zaokrozena_ocena', 1)\n",
    "filmi.head()"
   ]
  },
  {
   "cell_type": "markdown",
   "metadata": {},
   "source": [
    "### Side-note: slices\n",
    "Selecting a sub-dataframe creates a \"slice\".\n",
    "A slice is a view defined by reference to a different dataframe,\n",
    "and cannot be altered directly. Instead, we have to create a copy\n",
    "of the portion selected by the slice by calling the `.copy()` method on that slice, and can then alter that copy.\n"
   ]
  },
  {
   "cell_type": "markdown",
   "metadata": {},
   "source": [
    "Select the slice corresponding to the columns `naslov`, `leto`, and `glasovi` from `filmi`, and add a column with the rounded rating to it."
   ]
  },
  {
   "cell_type": "code",
   "execution_count": null,
   "metadata": {
    "collapsed": true
   },
   "outputs": [],
   "source": []
  },
  {
   "cell_type": "markdown",
   "metadata": {},
   "source": [
    "### Filtering data\n",
    "\n",
    "Create a filter that selects films from before 1930, and one for films from after 2017.\n",
    "Combine them to select films from before 1930 or after 2017."
   ]
  },
  {
   "cell_type": "code",
   "execution_count": null,
   "metadata": {
    "collapsed": true
   },
   "outputs": [],
   "source": []
  },
  {
   "cell_type": "markdown",
   "metadata": {},
   "source": [
    "Define a function that splits a string into words and tests if the number of words is at most two, then select the films with a name no longer than two words and a rating greater than 8.\n",
    "\n",
    "Hint: Use the `.apply()` method to create a filter from the `naslov` column."
   ]
  },
  {
   "cell_type": "code",
   "execution_count": null,
   "metadata": {
    "collapsed": true
   },
   "outputs": [],
   "source": []
  },
  {
   "cell_type": "markdown",
   "metadata": {},
   "source": [
    "### Histograms: Counting frequencies of values\n",
    "\n",
    "Group the films by rating, then number of occurances of each rating."
   ]
  },
  {
   "cell_type": "code",
   "execution_count": null,
   "metadata": {
    "collapsed": true
   },
   "outputs": [],
   "source": []
  },
  {
   "cell_type": "markdown",
   "metadata": {},
   "source": [
    "Create a bar plot of this data."
   ]
  },
  {
   "cell_type": "code",
   "execution_count": null,
   "metadata": {
    "collapsed": true
   },
   "outputs": [],
   "source": []
  },
  {
   "cell_type": "markdown",
   "metadata": {},
   "source": [
    "Dataframes have a built-in `.hist()` method that allows creating histograms for each column. Use this method to create a corresponding plot for the simplified data."
   ]
  },
  {
   "cell_type": "code",
   "execution_count": null,
   "metadata": {
    "collapsed": true
   },
   "outputs": [],
   "source": []
  },
  {
   "cell_type": "markdown",
   "metadata": {},
   "source": [
    "### Plot the average film length by year"
   ]
  },
  {
   "cell_type": "code",
   "execution_count": null,
   "metadata": {
    "collapsed": true
   },
   "outputs": [],
   "source": []
  },
  {
   "cell_type": "markdown",
   "metadata": {},
   "source": [
    "### Plot the sum of the revenues by year"
   ]
  },
  {
   "cell_type": "code",
   "execution_count": null,
   "metadata": {
    "collapsed": true
   },
   "outputs": [],
   "source": []
  }
 ],
 "metadata": {
  "kernelspec": {
   "display_name": "Python 3",
   "language": "python",
   "name": "python3"
  },
  "language_info": {
   "codemirror_mode": {
    "name": "ipython",
    "version": 3
   },
   "file_extension": ".py",
   "mimetype": "text/x-python",
   "name": "python",
   "nbconvert_exporter": "python",
   "pygments_lexer": "ipython3",
   "version": "3.6.1"
  }
 },
 "nbformat": 4,
 "nbformat_minor": 2
}
